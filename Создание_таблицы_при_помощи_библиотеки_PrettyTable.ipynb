{
  "nbformat": 4,
  "nbformat_minor": 0,
  "metadata": {
    "colab": {
      "provenance": [],
      "authorship_tag": "ABX9TyNuZUBEjCW8Rhia5doqRfeb",
      "include_colab_link": true
    },
    "kernelspec": {
      "name": "python3",
      "display_name": "Python 3"
    },
    "language_info": {
      "name": "python"
    }
  },
  "cells": [
    {
      "cell_type": "markdown",
      "metadata": {
        "id": "view-in-github",
        "colab_type": "text"
      },
      "source": [
        "<a href=\"https://colab.research.google.com/github/Alisher452/Alisher452/blob/main/%D0%A1%D0%BE%D0%B7%D0%B4%D0%B0%D0%BD%D0%B8%D0%B5_%D1%82%D0%B0%D0%B1%D0%BB%D0%B8%D1%86%D1%8B_%D0%BF%D1%80%D0%B8_%D0%BF%D0%BE%D0%BC%D0%BE%D1%89%D0%B8_%D0%B1%D0%B8%D0%B1%D0%BB%D0%B8%D0%BE%D1%82%D0%B5%D0%BA%D0%B8_PrettyTable.ipynb\" target=\"_parent\"><img src=\"https://colab.research.google.com/assets/colab-badge.svg\" alt=\"Open In Colab\"/></a>"
      ]
    },
    {
      "cell_type": "code",
      "execution_count": 1,
      "metadata": {
        "colab": {
          "base_uri": "https://localhost:8080/"
        },
        "id": "fwtPEhdcnk3e",
        "outputId": "990128ae-edf9-434b-b038-b5292cfe496c"
      },
      "outputs": [
        {
          "output_type": "stream",
          "name": "stdout",
          "text": [
            "+---------+--------------+-----------------+\n",
            "|   ИМЯ   | ГОД РОЖДЕНИЯ | КЕМ ЯВЛ.В СЕМЬЕ |\n",
            "+---------+--------------+-----------------+\n",
            "|  Azamat |     1992     |       Сын       |\n",
            "|  Akmal  |     1989     |       Сын       |\n",
            "|   Aziz  |     1986     |       Сын       |\n",
            "|  Sonya  |     1963     |     Супруга     |\n",
            "| Alisher |     1961     |       Отец      |\n",
            "|  Mayram |     2019     |      Внучка     |\n",
            "+---------+--------------+-----------------+."
          ]
        }
      ],
      "source": [
        "from prettytable import PrettyTable\n",
        "\n",
        "table = PrettyTable()\n",
        "table.field_names = [\"ИМЯ\",\"ГОД РОЖДЕНИЯ\",\"КЕМ ЯВЛ.В СЕМЬЕ\"]\n",
        "table.add_row([\"Azamat\",1992,\"Сын\"])\n",
        "table.add_row([\"Akmal\",1989,\"Сын\"])\n",
        "table.add_row([\"Aziz\",1986,\"Сын\"])\n",
        "table.add_row([\"Sonya\",1963,\"Супруга\"])\n",
        "table.add_row([\"Alisher\",1961,\"Отец\"])\n",
        "table.add_row([\"Mayram\",2019,\"Внучка\"])\n",
        "print(table,end = '.')"
      ]
    }
  ]
}